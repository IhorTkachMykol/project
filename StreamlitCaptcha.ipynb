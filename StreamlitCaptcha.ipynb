{
  "nbformat": 4,
  "nbformat_minor": 0,
  "metadata": {
    "colab": {
      "provenance": [],
      "mount_file_id": "1-2lIYmB4s2SR2o0saL_OocnFxdPiKl4J",
      "authorship_tag": "ABX9TyNVahCfTxBmjfbQW1i+gEpw",
      "include_colab_link": true
    },
    "kernelspec": {
      "name": "python3",
      "display_name": "Python 3"
    },
    "language_info": {
      "name": "python"
    }
  },
  "cells": [
    {
      "cell_type": "markdown",
      "metadata": {
        "id": "view-in-github",
        "colab_type": "text"
      },
      "source": [
        "<a href=\"https://colab.research.google.com/github/IhorTkachMykol/project/blob/main/StreamlitCaptcha.ipynb\" target=\"_parent\"><img src=\"https://colab.research.google.com/assets/colab-badge.svg\" alt=\"Open In Colab\"/></a>"
      ]
    },
    {
      "cell_type": "code",
      "execution_count": null,
      "metadata": {
        "id": "1A7y9WIGkwls"
      },
      "outputs": [],
      "source": [
        "import streamlit as st\n",
        "import tensorflow as tf\n",
        "from tensorflow.keras.models import load_model\n",
        "import numpy as np\n",
        "from PIL import Image\n",
        "import io\n",
        "\n",
        "# Завантаження моделей\n",
        "generator = load_model('generator.h5')\n",
        "discriminator = load_model('discriminator.h5')\n",
        "\n",
        "# Розмір латентного простору\n",
        "latent_dim = 100\n",
        "\n",
        "# Функція для завантаження та підготовки зображення\n",
        "def load_image(image_file):\n",
        "    img = Image.open(image_file)\n",
        "    img = img.resize((32, 32))\n",
        "    img = np.array(img).astype(np.float32)\n",
        "    img = (img - 127.5) / 127.5\n",
        "    img = np.expand_dims(img, axis=0)\n",
        "    return img\n",
        "\n",
        "# Створення веб-інтерфейсу за допомогою Streamlit\n",
        "st.title(\"CAPTCHA Classifier and Generator\")\n",
        "\n",
        "# Завантаження зображення\n",
        "uploaded_file = st.file_uploader(\"Upload an image\", type=[\"png\", \"jpg\", \"jpeg\"])\n",
        "if uploaded_file is not None:\n",
        "    # Відображення завантаженого зображення\n",
        "    st.image(uploaded_file, caption=\"Uploaded Image\", use_column_width=True)\n",
        "\n",
        "    # Підготовка зображення\n",
        "    img = load_image(uploaded_file)\n",
        "\n",
        "    # Класифікація завантаженого зображення\n",
        "    prediction = discriminator.predict(img)\n",
        "    predicted_class = \"Real\" if prediction >= 0.5 else \"Fake\"\n",
        "    probability = prediction[0][0]\n",
        "\n",
        "    st.write(f\"Predicted Class: {predicted_class}\")\n",
        "    st.write(f\"Probability: {probability:.2f}\")\n",
        "\n",
        "    # Генерація нового зображення\n",
        "    noise = np.random.normal(0, 1, (1, latent_dim))\n",
        "    generated_img = generator.predict(noise)\n",
        "\n",
        "    # Денормалізація згенерованого зображення\n",
        "    generated_img = 0.5 * generated_img + 0.5\n",
        "    generated_img = np.clip(generated_img, 0, 1)\n",
        "\n",
        "    # Відображення згенерованого зображення\n",
        "    st.image(generated_img[0], caption=\"Generated Image\", use_column_width=True)\n",
        "\n",
        "    # Перевірка згенерованого зображення дискримінатором\n",
        "    gen_prediction = discriminator.predict(generated_img)\n",
        "    gen_predicted_class = \"Real\" if gen_prediction >= 0.5 else \"Fake\"\n",
        "    gen_probability = gen_prediction[0][0]\n",
        "\n",
        "    st.write(f\"Generated Image Predicted Class: {gen_predicted_class}\")\n",
        "    st.write(f\"Generated Image Probability: {gen_probability:.2f}\")\n",
        "\n",
        "# Запуск Streamlit\n",
        "if __name__ == '__main__':\n",
        "    st.run()\n"
      ]
    }
  ]
}